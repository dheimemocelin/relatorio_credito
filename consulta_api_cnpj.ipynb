{
 "cells": [
  {
   "cell_type": "code",
   "execution_count": 11,
   "metadata": {},
   "outputs": [],
   "source": [
    "# Bibliotecas\n",
    "import requests\n",
    "import pandas as pd\n",
    "import numpy as np\n",
    "import json\n",
    "from datetime import datetime\n"
   ]
  },
  {
   "cell_type": "code",
   "execution_count": 12,
   "metadata": {},
   "outputs": [],
   "source": [
    "def get_company_data(cnpj):\n",
    "    # URL da API para consultar dados do CNPJ\n",
    "    url = f'https://receitaws.com.br/v1/cnpj/{cnpj}'\n",
    "    \n",
    "    try:\n",
    "        # Fazendo a solicitação GET à API\n",
    "        response = requests.get(url)\n",
    "        \n",
    "        # Verifica se a solicitação foi bem-sucedida (código de status 200)\n",
    "        if response.status_code == 200:\n",
    "            # Retorna os dados da empresa (presumindo que a API retorna dados JSON)\n",
    "            return response.json()\n",
    "        else:\n",
    "            print(f\"Erro na solicitação. Código de status: {response.status_code}\")\n",
    "            return None\n",
    "    except Exception as e:\n",
    "        print(f\"Ocorreu um erro: {e}\")\n",
    "        return None"
   ]
  },
  {
   "cell_type": "code",
   "execution_count": 16,
   "metadata": {},
   "outputs": [
    {
     "name": "stdout",
     "output_type": "stream",
     "text": [
      "Data do Pedido: 01/03/2024\n",
      "Razão Social: QUATRO ELLE EMPREENDIMENTOS S/A\n",
      "Tipo de Empresa: MATRIZ\n",
      "Data da Abertura 16/02/2006\n"
     ]
    }
   ],
   "source": [
    "def main():\n",
    "    cnpj = input(\"Por favor, insira o CNPJ da empresa (apenas números): \")\n",
    "    company_data = get_company_data(cnpj)\n",
    "    # Obtendo a data e hora atuais\n",
    "    data_hora_atual = datetime.now()\n",
    "    # Convertendo para uma string formatada\n",
    "    data_hora_formatada = data_hora_atual.strftime(\"%d/%m/%Y\")\n",
    "\n",
    "    print(\"Data do Pedido:\", data_hora_formatada)\n",
    "    if company_data:\n",
    "        # Imprime a razão social\n",
    "        razao_social = company_data['nome']\n",
    "        print(\"Razão Social:\", razao_social)\n",
    "        tipo_empresa = company_data['tipo']\n",
    "        print(\"Tipo de Empresa:\", tipo_empresa)\n",
    "        abertura = company_data['abertura']\n",
    "        print('Data da Abertura', abertura)\n",
    "    else:\n",
    "        print(\"Não foi possível obter os dados da empresa.\")\n",
    "\n",
    "if __name__ == \"__main__\":\n",
    "    main()"
   ]
  }
 ],
 "metadata": {
  "kernelspec": {
   "display_name": "base",
   "language": "python",
   "name": "python3"
  },
  "language_info": {
   "codemirror_mode": {
    "name": "ipython",
    "version": 3
   },
   "file_extension": ".py",
   "mimetype": "text/x-python",
   "name": "python",
   "nbconvert_exporter": "python",
   "pygments_lexer": "ipython3",
   "version": "3.11.4"
  }
 },
 "nbformat": 4,
 "nbformat_minor": 2
}
